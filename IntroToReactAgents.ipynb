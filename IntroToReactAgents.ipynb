{
  "nbformat": 4,
  "nbformat_minor": 0,
  "metadata": {
    "colab": {
      "provenance": [],
      "authorship_tag": "ABX9TyOhw+Clw1TjnTWlGP7enxjO",
      "include_colab_link": true
    },
    "kernelspec": {
      "name": "python3",
      "display_name": "Python 3"
    },
    "language_info": {
      "name": "python"
    }
  },
  "cells": [
    {
      "cell_type": "markdown",
      "metadata": {
        "id": "view-in-github",
        "colab_type": "text"
      },
      "source": [
        "<a href=\"https://colab.research.google.com/github/s-j-pinto/advanced-python-working-with-data/blob/main/IntroToReactAgents.ipynb\" target=\"_parent\"><img src=\"https://colab.research.google.com/assets/colab-badge.svg\" alt=\"Open In Colab\"/></a>"
      ]
    },
    {
      "cell_type": "code",
      "source": [
        "pip install groq"
      ],
      "metadata": {
        "collapsed": true,
        "id": "6FBdf2AUnvfu",
        "outputId": "39050c3b-472b-453e-88e3-d22642565a30",
        "colab": {
          "base_uri": "https://localhost:8080/"
        }
      },
      "execution_count": 1,
      "outputs": [
        {
          "output_type": "stream",
          "name": "stdout",
          "text": [
            "Collecting groq\n",
            "  Downloading groq-0.15.0-py3-none-any.whl.metadata (14 kB)\n",
            "Requirement already satisfied: anyio<5,>=3.5.0 in /usr/local/lib/python3.11/dist-packages (from groq) (3.7.1)\n",
            "Requirement already satisfied: distro<2,>=1.7.0 in /usr/local/lib/python3.11/dist-packages (from groq) (1.9.0)\n",
            "Requirement already satisfied: httpx<1,>=0.23.0 in /usr/local/lib/python3.11/dist-packages (from groq) (0.28.1)\n",
            "Requirement already satisfied: pydantic<3,>=1.9.0 in /usr/local/lib/python3.11/dist-packages (from groq) (2.10.5)\n",
            "Requirement already satisfied: sniffio in /usr/local/lib/python3.11/dist-packages (from groq) (1.3.1)\n",
            "Requirement already satisfied: typing-extensions<5,>=4.10 in /usr/local/lib/python3.11/dist-packages (from groq) (4.12.2)\n",
            "Requirement already satisfied: idna>=2.8 in /usr/local/lib/python3.11/dist-packages (from anyio<5,>=3.5.0->groq) (3.10)\n",
            "Requirement already satisfied: certifi in /usr/local/lib/python3.11/dist-packages (from httpx<1,>=0.23.0->groq) (2024.12.14)\n",
            "Requirement already satisfied: httpcore==1.* in /usr/local/lib/python3.11/dist-packages (from httpx<1,>=0.23.0->groq) (1.0.7)\n",
            "Requirement already satisfied: h11<0.15,>=0.13 in /usr/local/lib/python3.11/dist-packages (from httpcore==1.*->httpx<1,>=0.23.0->groq) (0.14.0)\n",
            "Requirement already satisfied: annotated-types>=0.6.0 in /usr/local/lib/python3.11/dist-packages (from pydantic<3,>=1.9.0->groq) (0.7.0)\n",
            "Requirement already satisfied: pydantic-core==2.27.2 in /usr/local/lib/python3.11/dist-packages (from pydantic<3,>=1.9.0->groq) (2.27.2)\n",
            "Downloading groq-0.15.0-py3-none-any.whl (109 kB)\n",
            "\u001b[2K   \u001b[90m━━━━━━━━━━━━━━━━━━━━━━━━━━━━━━━━━━━━━━━━\u001b[0m \u001b[32m109.6/109.6 kB\u001b[0m \u001b[31m984.1 kB/s\u001b[0m eta \u001b[36m0:00:00\u001b[0m\n",
            "\u001b[?25hInstalling collected packages: groq\n",
            "Successfully installed groq-0.15.0\n"
          ]
        }
      ]
    },
    {
      "cell_type": "code",
      "execution_count": 2,
      "metadata": {
        "id": "7NnqhQNrmsjG"
      },
      "outputs": [],
      "source": [
        "import os\n",
        "os.environ['GROQ_API_KEY'] = \"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\""
      ]
    },
    {
      "cell_type": "code",
      "source": [
        "from groq import Groq\n",
        "\n",
        "client = Groq(\n",
        "    api_key=os.environ.get(\"GROQ_API_KEY\"),\n",
        ")\n",
        "\n",
        "chat_completion = client.chat.completions.create(\n",
        "    messages=[\n",
        "        {\n",
        "            \"role\": \"user\",\n",
        "            \"content\": \"Explain the importance of fast language models\",\n",
        "        }\n",
        "    ],\n",
        "    model=\"llama-3.3-70b-versatile\",\n",
        ")\n",
        "\n",
        "print(chat_completion.choices[0].message.content)"
      ],
      "metadata": {
        "collapsed": true,
        "id": "NmQTWETPoMtY",
        "outputId": "50fa64e8-bc1b-41a3-cf23-ead73f31c127",
        "colab": {
          "base_uri": "https://localhost:8080/"
        }
      },
      "execution_count": 3,
      "outputs": [
        {
          "output_type": "stream",
          "name": "stdout",
          "text": [
            "Fast language models are a crucial component in the field of natural language processing (NLP) and have numerous applications in various industries. The importance of fast language models can be summarized as follows:\n",
            "\n",
            "1. **Efficient Processing**: Fast language models can process large amounts of text data quickly, making them ideal for applications that require real-time or near-real-time processing, such as chatbots, virtual assistants, and language translation systems.\n",
            "2. **Improved User Experience**: Fast language models can respond to user queries and requests rapidly, providing a seamless and interactive experience. This is particularly important in applications where users expect instant responses, such as customer service chatbots or voice assistants.\n",
            "3. **Increased Throughput**: Fast language models can handle a large volume of requests and process them quickly, making them suitable for applications that require high throughput, such as language translation, text summarization, and sentiment analysis.\n",
            "4. **Cost Savings**: Fast language models can help reduce costs associated with computational resources, such as server time, memory, and energy consumption. This is particularly important for large-scale applications that require significant computational resources.\n",
            "5. **Competitive Advantage**: Organizations that adopt fast language models can gain a competitive advantage over others that use slower models. Fast language models can help organizations respond more quickly to customer inquiries, provide faster language translation, and improve overall customer satisfaction.\n",
            "6. **Real-Time Analytics**: Fast language models can enable real-time analytics and insights, allowing organizations to respond promptly to changing market conditions, customer behavior, and other factors that impact their business.\n",
            "7. **Enhanced Security**: Fast language models can help detect and respond to security threats, such as spam, phishing, and malware, more quickly and effectively.\n",
            "8. **Improved Accessibility**: Fast language models can help make language-related services more accessible to people with disabilities, such as those who rely on text-to-speech systems or language translation services.\n",
            "9. **Support for Multilingual Applications**: Fast language models can support multilingual applications, enabling organizations to communicate with customers and users in their native languages, which can help expand their global reach and improve customer satisfaction.\n",
            "10. **Advancements in AI Research**: Fast language models can accelerate research in AI and NLP, enabling researchers to explore new applications, test hypotheses, and push the boundaries of what is possible in language understanding and generation.\n",
            "\n",
            "Some examples of applications that benefit from fast language models include:\n",
            "\n",
            "* Virtual assistants (e.g., Siri, Alexa, Google Assistant)\n",
            "* Chatbots and customer service platforms\n",
            "* Language translation systems (e.g., Google Translate)\n",
            "* Text summarization and analysis tools\n",
            "* Sentiment analysis and opinion mining tools\n",
            "* Speech recognition and text-to-speech systems\n",
            "* Multilingual applications and services\n",
            "\n",
            "Overall, fast language models have the potential to transform the way we interact with language-related systems and services, enabling more efficient, effective, and accessible communication.\n"
          ]
        }
      ]
    }
  ]
}